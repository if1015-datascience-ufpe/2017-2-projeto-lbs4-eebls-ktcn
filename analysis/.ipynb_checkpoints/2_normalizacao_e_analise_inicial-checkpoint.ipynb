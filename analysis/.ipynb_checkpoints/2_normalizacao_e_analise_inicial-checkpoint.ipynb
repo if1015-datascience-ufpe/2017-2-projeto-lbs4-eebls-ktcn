{
 "cells": [
  {
   "cell_type": "code",
   "execution_count": 210,
   "metadata": {
    "collapsed": true
   },
   "outputs": [],
   "source": [
    "import pandas as pd\n",
    "import numpy as np\n",
    "from scipy.stats import linregress\n",
    "import seaborn as sns\n",
    "import matplotlib\n",
    "import matplotlib.pyplot as plt\n",
    "from sklearn.cluster import KMeans\n",
    "\n",
    "% matplotlib inline"
   ]
  },
  {
   "cell_type": "code",
   "execution_count": 211,
   "metadata": {
    "collapsed": true
   },
   "outputs": [],
   "source": [
    "tabela_final = pd.read_csv('tabela_final_prod.csv')\n",
    "#tabela_final = pd.read_csv('tabela_final_dev.csv')"
   ]
  },
  {
   "cell_type": "code",
   "execution_count": 212,
   "metadata": {
    "collapsed": true
   },
   "outputs": [],
   "source": [
    "columns = [column for column in tabela_final.columns if column != 'municipio']\n",
    "\n",
    "for column in tabela_final[columns]:\n",
    "    tabela_final[column] = tabela_final[column].replace('-', np.nan)\n",
    "    tabela_final[column] = tabela_final[column].astype('float64')"
   ]
  },
  {
   "cell_type": "code",
   "execution_count": 213,
   "metadata": {
    "collapsed": true
   },
   "outputs": [],
   "source": [
    "tabela_final = tabela_final.loc[tabela_final.municipio != 'Fernando de Noronha']\n",
    "#tabela_final = tabela_final.loc[tabela_final.municipio != 'Recife']\n",
    "#tabela_final = tabela_final.loc[tabela_final.municipio != 'Agua Preta']\n",
    "# tabela_final = tabela_final.loc[tabela_final.municipio != 'Recife']\n",
    "\n",
    "for column in tabela_final.columns:\n",
    "    if 'total' in column:\n",
    "        tabela_final.drop(column, axis=1, inplace=True)"
   ]
  },
  {
   "cell_type": "code",
   "execution_count": 214,
   "metadata": {
    "collapsed": true
   },
   "outputs": [],
   "source": [
    "tabela_final.set_index('municipio',inplace=True)\n",
    "#tabela_final = tabela_final.fillna(0)"
   ]
  },
  {
   "cell_type": "code",
   "execution_count": 215,
   "metadata": {
    "collapsed": true
   },
   "outputs": [],
   "source": [
    "not_in_columns = ['pop','taxa_homicidio','pessoas_de_10_anos_ou_mais_de_idade_ocupadas_na_semana_de_referencia_total',\\\n",
    "                  'domicilios_particulares_permanentes_por_situacao_do_domicilio_rural__destino_do_lixo(%)_coletado',\\\n",
    "                 'domicilios_particulares_permanentes_por_situacao_do_domicilio_rural__destino_do_lixo(%)_queimado_ou_enterrado',\\\n",
    "                 'domicilios_particulares_permanentes_por_situacao_do_domicilio_rural__destino_do_lixo(%)_outra_forma_(1)',\\\n",
    "                 'domicilios_particulares_permanente_por_situacao_do_domicilio_rural__tipo_de_esgotamento_sanitario(%)_rede_geral',\\\n",
    "                 'domicilios_particulares_permanente_por_situacao_do_domicilio_rural__tipo_de_esgotamento_sanitario(%)_fossa_septica',\\\n",
    "                 'domicilios_particulares_permanente_por_situacao_do_domicilio_rural__tipo_de_esgotamento_sanitario(%)_outra_forma_(1)',\\\n",
    "                 'domicilios_particulares_permanente_por_situacao_do_domicilio_rural__sem_instalacao_sanitaria(%)']"
   ]
  },
  {
   "cell_type": "code",
   "execution_count": 292,
   "metadata": {
    "collapsed": true
   },
   "outputs": [],
   "source": [
    "which_columns = []\n",
    "x = tabela_final['taxa_homicidio'].values\n",
    "for column in tabela_final.columns:\n",
    "    if (column not in not_in_columns):\n",
    "        y = tabela_final[column].values\n",
    "        model = linregress(x,y)\n",
    "        if (model.pvalue <= 0.0000000000001):\n",
    "            which_columns.append(column)"
   ]
  },
  {
   "cell_type": "code",
   "execution_count": 329,
   "metadata": {},
   "outputs": [
    {
     "name": "stdout",
     "output_type": "stream",
     "text": [
      "1\n"
     ]
    },
    {
     "data": {
      "text/plain": [
       "['domicilios_particulares_permanentes_classes_de_salario_minimo_(%)_mais_de_3']"
      ]
     },
     "execution_count": 329,
     "metadata": {},
     "output_type": "execute_result"
    }
   ],
   "source": [
    "#2 0.00000000005\n",
    "#3 0.00000000006\n",
    "#4 0.000000000082\n",
    "#5 0.00000000009\n",
    "#7 0.0000000001\n",
    "\n",
    "print(len(which_columns))\n",
    "which_columns"
   ]
  },
  {
   "cell_type": "code",
   "execution_count": 294,
   "metadata": {
    "collapsed": true
   },
   "outputs": [],
   "source": [
    "#copiar tabela\n",
    "tb_signifi = tabela_final"
   ]
  },
  {
   "cell_type": "code",
   "execution_count": 295,
   "metadata": {
    "collapsed": true
   },
   "outputs": [],
   "source": [
    "#criando uma nova só com as variaveis que passaram pelo p-value\n",
    "for column in tb_signifi.columns:\n",
    "    if (column not in which_columns and column != 'pop' and column != 'taxa_homicidio'):\n",
    "        tb_signifi = tb_signifi.drop([column],1)"
   ]
  },
  {
   "cell_type": "code",
   "execution_count": 296,
   "metadata": {
    "collapsed": true,
    "scrolled": true
   },
   "outputs": [],
   "source": [
    "#tb_signifi"
   ]
  },
  {
   "cell_type": "code",
   "execution_count": 297,
   "metadata": {
    "collapsed": true
   },
   "outputs": [],
   "source": [
    "#normalizando a tabela\n",
    "for column in tb_signifi.columns:\n",
    "    if ('(%)' not in column):\n",
    "        tb_signifi[column] = tb_signifi[column].apply(lambda x: x * 100000 / tb_signifi['pop'])\n",
    "        tb_signifi[column] = tb_signifi[column].apply(lambda x: (x - tb_signifi[column].min()) / (tb_signifi[column].max() - tb_signifi[column].min()) ) #normalizacao min-max\n",
    "        #df[column] = df[column].apply(lambda x: np.log10(x))  \n",
    "        #df[column] = df[column].apply(lambda x: (x - df[column].mean()) / df[column].std())  #normalizacao zscore\n",
    "    else:\n",
    "        tb_signifi[column] = tb_signifi[column].apply(lambda x: x/100)"
   ]
  },
  {
   "cell_type": "code",
   "execution_count": 298,
   "metadata": {
    "collapsed": true
   },
   "outputs": [],
   "source": [
    "#tb_signifi"
   ]
  },
  {
   "cell_type": "code",
   "execution_count": 299,
   "metadata": {},
   "outputs": [],
   "source": [
    "#plotando os graficos\n",
    "#for column in tb_signifi.columns:\n",
    "#    if (column != 'pop' and column != 'taxa_homicidio'):\n",
    "#        plt.subplots(figsize=(8,4))\n",
    "#        ax = sns.regplot(column, 'taxa_homicidio',data=tb_signifi)"
   ]
  },
  {
   "cell_type": "code",
   "execution_count": 300,
   "metadata": {
    "collapsed": true
   },
   "outputs": [],
   "source": [
    "#eliminando as variaveis auxiliares\n",
    "tb_signifi = tb_signifi.drop(['pop'],1)"
   ]
  },
  {
   "cell_type": "code",
   "execution_count": 327,
   "metadata": {},
   "outputs": [
    {
     "data": {
      "text/plain": [
       "KMeans(algorithm='auto', copy_x=True, init='k-means++', max_iter=300,\n",
       "    n_clusters=4, n_init=10, n_jobs=1, precompute_distances='auto',\n",
       "    random_state=None, tol=0.0001, verbose=0)"
      ]
     },
     "execution_count": 327,
     "metadata": {},
     "output_type": "execute_result"
    }
   ],
   "source": [
    "#aplicando o cluster\n",
    "skip_columns = ['taxa_homicidio']\n",
    "clusterizable_columns = [column for column in tb_signifi.columns if column not in skip_columns]\n",
    "\n",
    "#df = df.replace([np.inf, -np.inf, '-'], np.nan).dropna()\n",
    "#model = KMeans(n_clusters=2).fit(tb_signifi.dropna()[clusterizable_columns].values)\n",
    "model = KMeans(n_clusters=4).fit(tb_signifi.values)\n",
    "model"
   ]
  },
  {
   "cell_type": "code",
   "execution_count": 328,
   "metadata": {},
   "outputs": [
    {
     "name": "stdout",
     "output_type": "stream",
     "text": [
      "0.600522094633\n"
     ]
    }
   ],
   "source": [
    "from sklearn.metrics import silhouette_score, silhouette_samples\n",
    "#print(silhouette_samples(df[['x','y']].values,model.labels_))\n",
    "print(silhouette_score(tb_signifi[[column,'taxa_homicidio']].values,model.labels_))"
   ]
  },
  {
   "cell_type": "code",
   "execution_count": 331,
   "metadata": {
    "scrolled": true
   },
   "outputs": [
    {
     "data": {
      "image/png": "[encoded data removed]",
      "text/plain": [
       "<matplotlib.figure.Figure at 0x7fc92bb70e80>"
      ]
     },
     "metadata": {},
     "output_type": "display_data"
    }
   ],
   "source": [
    "for column in clusterizable_columns:\n",
    "#for column in tb_signifi:\n",
    "    clusters = np.asarray(['c{}'.format(a+1) for a in model.labels_],dtype='object')\n",
    "    ax = tb_signifi.dropna()[clusters=='c1'].plot.scatter(x=column,y='taxa_homicidio',marker='^',color='red')\n",
    "    tb_signifi.dropna()[clusters=='c2'].plot.scatter(x=column,y='taxa_homicidio',marker='d', color='green',ax=ax)\n",
    "    #tb_signifi.dropna()[clusters=='c3'].plot.scatter(x=column,y='taxa_homicidio',marker='s',color='magenta', ax=ax)\n",
    "    #df.dropna()[clusters=='c4'].plot.scatter(x=column,y='taxa_homicidio',marker='*',color='blue', ax=ax)\n",
    "    # c1, c2, c3 = model.cluster_centers_\n",
    "    # ax.scatter(*c1,color='red',marker='^',s=50)\n",
    "    # ax.scatter(*c2,marker='d',color='green',s=50)\n",
    "    # ax.scatter(*c3,marker='s',color='magenta',s=50)"
   ]
  },
  {
   "cell_type": "code",
   "execution_count": 330,
   "metadata": {},
   "outputs": [
    {
     "name": "stdout",
     "output_type": "stream",
     "text": [
      "[3 0 2 3 1 3 0 2 0 3 3 0 0 3 2 3 2 0 3 0 3 2 2 0 2 2 2 1 2 0 3 0 2 2 2 2 3\n",
      " 3 2 3 2 0 0 3 3 2 0 2 2 0 0 2 3 2 1 0 2 3 2 2 2 0 1 2 0 3 3 1 2 3 2 0 0 3\n",
      " 3 3 0 2 3 2 2 2 0 2 0 0 1 2 0 3 0 3 2 3 3 1 2 2 0 2 0 3 2 0 0 0 3 2 3 0 1\n",
      " 2 3 0 3 2 2 2 0 2 0 3 0 2 1 3 3 3 0 0 3 1 2 1 0 2 0 0 2 3 0 2 1 2 3 0 2 2\n",
      " 0 0 2 2 3 0 2 1 0 3 2 0 3 0 0 2 2 0 3 3 0 2 0 3 0 0 2 0 0 2 2 3 2 2 3 0]\n"
     ]
    }
   ],
   "source": [
    "print(model.labels_)"
   ]
  },
  {
   "cell_type": "code",
   "execution_count": null,
   "metadata": {
    "collapsed": true
   },
   "outputs": [],
   "source": []
  },
  {
   "cell_type": "code",
   "execution_count": null,
   "metadata": {
    "collapsed": true
   },
   "outputs": [],
   "source": []
  }
 ],
 "metadata": {
  "kernelspec": {
   "display_name": "Python 3",
   "language": "python",
   "name": "python3"
  },
  "language_info": {
   "codemirror_mode": {
    "name": "ipython",
    "version": 3
   },
   "file_extension": ".py",
   "mimetype": "text/x-python",
   "name": "python",
   "nbconvert_exporter": "python",
   "pygments_lexer": "ipython3",
   "version": "3.6.1"
  }
 },
 "nbformat": 4,
 "nbformat_minor": 2
}
