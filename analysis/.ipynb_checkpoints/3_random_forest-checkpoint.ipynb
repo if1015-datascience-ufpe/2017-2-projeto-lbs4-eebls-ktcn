{
 "cells": [
  {
   "cell_type": "code",
   "execution_count": 208,
   "metadata": {
    "collapsed": true
   },
   "outputs": [],
   "source": [
    "from sklearn.datasets import load_iris\n",
    "from sklearn.ensemble import RandomForestClassifier\n",
    "import pandas as pd\n",
    "import numpy as np\n",
    "# Set random seed\n",
    "np.random.seed(0)"
   ]
  },
  {
   "cell_type": "code",
   "execution_count": 209,
   "metadata": {
    "collapsed": true
   },
   "outputs": [],
   "source": [
    "tabela_final = pd.read_csv('tabela_final_prod.csv')\n",
    "microrregioes = pd.read_csv(\"../data/microrregioes/municipios_microrregioes_pernambuco.csv\")\n",
    "#dataframe = municipio x cluster"
   ]
  },
  {
   "cell_type": "code",
   "execution_count": 210,
   "metadata": {
    "scrolled": false
   },
   "outputs": [
    {
     "data": {
      "text/html": [
       "<div>\n",
       "<style>\n",
       "    .dataframe thead tr:only-child th {\n",
       "        text-align: right;\n",
       "    }\n",
       "\n",
       "    .dataframe thead th {\n",
       "        text-align: left;\n",
       "    }\n",
       "\n",
       "    .dataframe tbody tr th {\n",
       "        vertical-align: top;\n",
       "    }\n",
       "</style>\n",
       "<table border=\"1\" class=\"dataframe\">\n",
       "  <thead>\n",
       "    <tr style=\"text-align: right;\">\n",
       "      <th></th>\n",
       "      <th>pop</th>\n",
       "      <th>taxa_homicidio</th>\n",
       "      <th>pessoas_de_10_anos_ou_mais_de_idade_alfabetizadas</th>\n",
       "      <th>pessoas_de_10_anos_ou_mais_de_idade_taxa_de_alfabetizacao_(%)</th>\n",
       "      <th>pessoas_de_10_anos_ou_mais_de_idade_10_a_14_anos_total</th>\n",
       "      <th>pessoas_de_10_anos_ou_mais_de_idade_10_a_14_anos_alfabetizadas</th>\n",
       "      <th>pessoas_de_10_anos_ou_mais_de_idade_10_a_14_anos_taxa_de_alfabetizacao_(%)</th>\n",
       "      <th>pessoas_de_10_anos_ou_mais_de_idade_15_a_19_anos_total</th>\n",
       "      <th>pessoas_de_10_anos_ou_mais_de_idade_15_a_19_anos_alfabetizadas</th>\n",
       "      <th>pessoas_de_10_anos_ou_mais_de_idade_15_a_19_anos_taxa_de_alfabetizacao_(%)</th>\n",
       "      <th>...</th>\n",
       "      <th>pessoas_de_10_anos_ou_mais_de_idade_ocupadas_na_semana_de_referencia_por_posicao_na_ocupacao_(%)_trabalhador_domestico_com_carteira</th>\n",
       "      <th>pessoas_de_10_anos_ou_mais_de_idade_ocupadas_na_semana_de_referencia_por_posicao_na_ocupacao_(%)_trabalhador_domestico_sem_carteira</th>\n",
       "      <th>taxa_de_escolarizacao_(%)_total</th>\n",
       "      <th>taxa_de_escolarizacao_(%)_por_grupos_de_idade_0_a_6_anos</th>\n",
       "      <th>taxa_de_escolarizacao_(%)_por_grupos_de_idade_7_a_14_anos</th>\n",
       "      <th>taxa_de_escolarizacao_(%)_por_grupos_de_idade_15_a_17_anos</th>\n",
       "      <th>taxa_de_escolarizacao_(%)_por_grupos_de_idade_18_a_24_anos</th>\n",
       "      <th>taxa_de_escolarizacao_(%)_por_grupos_de_idade_25_anos_ou_mais</th>\n",
       "      <th>Unnamed: 0</th>\n",
       "      <th>microrregiao</th>\n",
       "    </tr>\n",
       "  </thead>\n",
       "  <tbody>\n",
       "    <tr>\n",
       "      <th>0</th>\n",
       "      <td>83486</td>\n",
       "      <td>38.329780</td>\n",
       "      <td>63709.0</td>\n",
       "      <td>87.964267</td>\n",
       "      <td>8979.0</td>\n",
       "      <td>8513.0</td>\n",
       "      <td>94.810112</td>\n",
       "      <td>9853.0</td>\n",
       "      <td>9478.0</td>\n",
       "      <td>96.194053</td>\n",
       "      <td>...</td>\n",
       "      <td>1.778760</td>\n",
       "      <td>5.114576</td>\n",
       "      <td>32.530620</td>\n",
       "      <td>41.945898</td>\n",
       "      <td>95.584063</td>\n",
       "      <td>78.143800</td>\n",
       "      <td>33.812041</td>\n",
       "      <td>3.816416</td>\n",
       "      <td>0</td>\n",
       "      <td>Recife</td>\n",
       "    </tr>\n",
       "    <tr>\n",
       "      <th>1</th>\n",
       "      <td>34524</td>\n",
       "      <td>23.172286</td>\n",
       "      <td>19629.0</td>\n",
       "      <td>74.896978</td>\n",
       "      <td>3807.0</td>\n",
       "      <td>3424.0</td>\n",
       "      <td>89.939585</td>\n",
       "      <td>3758.0</td>\n",
       "      <td>3553.0</td>\n",
       "      <td>94.544971</td>\n",
       "      <td>...</td>\n",
       "      <td>0.534028</td>\n",
       "      <td>4.613167</td>\n",
       "      <td>29.143026</td>\n",
       "      <td>25.394765</td>\n",
       "      <td>89.645511</td>\n",
       "      <td>68.337465</td>\n",
       "      <td>27.082396</td>\n",
       "      <td>2.221973</td>\n",
       "      <td>1</td>\n",
       "      <td>Vale do Pajeu</td>\n",
       "    </tr>\n",
       "    <tr>\n",
       "      <th>2</th>\n",
       "      <td>14227</td>\n",
       "      <td>7.028889</td>\n",
       "      <td>8158.0</td>\n",
       "      <td>68.855503</td>\n",
       "      <td>1824.0</td>\n",
       "      <td>1683.0</td>\n",
       "      <td>92.269737</td>\n",
       "      <td>1762.0</td>\n",
       "      <td>1596.0</td>\n",
       "      <td>90.578888</td>\n",
       "      <td>...</td>\n",
       "      <td>0.038902</td>\n",
       "      <td>3.388949</td>\n",
       "      <td>33.557669</td>\n",
       "      <td>21.179424</td>\n",
       "      <td>95.555202</td>\n",
       "      <td>75.170484</td>\n",
       "      <td>32.956231</td>\n",
       "      <td>5.897674</td>\n",
       "      <td>2</td>\n",
       "      <td>Petrolina</td>\n",
       "    </tr>\n",
       "    <tr>\n",
       "      <th>3</th>\n",
       "      <td>18713</td>\n",
       "      <td>42.751029</td>\n",
       "      <td>9599.0</td>\n",
       "      <td>61.031282</td>\n",
       "      <td>2263.0</td>\n",
       "      <td>1811.0</td>\n",
       "      <td>80.026513</td>\n",
       "      <td>2243.0</td>\n",
       "      <td>1832.0</td>\n",
       "      <td>81.676326</td>\n",
       "      <td>...</td>\n",
       "      <td>0.665384</td>\n",
       "      <td>3.586701</td>\n",
       "      <td>31.677327</td>\n",
       "      <td>40.297104</td>\n",
       "      <td>92.067825</td>\n",
       "      <td>66.086919</td>\n",
       "      <td>25.231703</td>\n",
       "      <td>3.157923</td>\n",
       "      <td>3</td>\n",
       "      <td>Brejo</td>\n",
       "    </tr>\n",
       "    <tr>\n",
       "      <th>4</th>\n",
       "      <td>25353</td>\n",
       "      <td>82.830434</td>\n",
       "      <td>14347.0</td>\n",
       "      <td>65.739553</td>\n",
       "      <td>3784.0</td>\n",
       "      <td>3114.0</td>\n",
       "      <td>82.293869</td>\n",
       "      <td>3633.0</td>\n",
       "      <td>3090.0</td>\n",
       "      <td>85.053675</td>\n",
       "      <td>...</td>\n",
       "      <td>1.142118</td>\n",
       "      <td>4.484667</td>\n",
       "      <td>33.183783</td>\n",
       "      <td>14.363835</td>\n",
       "      <td>86.474907</td>\n",
       "      <td>67.870384</td>\n",
       "      <td>37.045502</td>\n",
       "      <td>6.286884</td>\n",
       "      <td>4</td>\n",
       "      <td>Mata Meridional</td>\n",
       "    </tr>\n",
       "  </tbody>\n",
       "</table>\n",
       "<p>5 rows × 171 columns</p>\n",
       "</div>"
      ],
      "text/plain": [
       "     pop  taxa_homicidio  pessoas_de_10_anos_ou_mais_de_idade_alfabetizadas  \\\n",
       "0  83486       38.329780                                            63709.0   \n",
       "1  34524       23.172286                                            19629.0   \n",
       "2  14227        7.028889                                             8158.0   \n",
       "3  18713       42.751029                                             9599.0   \n",
       "4  25353       82.830434                                            14347.0   \n",
       "\n",
       "   pessoas_de_10_anos_ou_mais_de_idade_taxa_de_alfabetizacao_(%)  \\\n",
       "0                                          87.964267               \n",
       "1                                          74.896978               \n",
       "2                                          68.855503               \n",
       "3                                          61.031282               \n",
       "4                                          65.739553               \n",
       "\n",
       "   pessoas_de_10_anos_ou_mais_de_idade_10_a_14_anos_total  \\\n",
       "0                                             8979.0        \n",
       "1                                             3807.0        \n",
       "2                                             1824.0        \n",
       "3                                             2263.0        \n",
       "4                                             3784.0        \n",
       "\n",
       "   pessoas_de_10_anos_ou_mais_de_idade_10_a_14_anos_alfabetizadas  \\\n",
       "0                                             8513.0                \n",
       "1                                             3424.0                \n",
       "2                                             1683.0                \n",
       "3                                             1811.0                \n",
       "4                                             3114.0                \n",
       "\n",
       "   pessoas_de_10_anos_ou_mais_de_idade_10_a_14_anos_taxa_de_alfabetizacao_(%)  \\\n",
       "0                                          94.810112                            \n",
       "1                                          89.939585                            \n",
       "2                                          92.269737                            \n",
       "3                                          80.026513                            \n",
       "4                                          82.293869                            \n",
       "\n",
       "   pessoas_de_10_anos_ou_mais_de_idade_15_a_19_anos_total  \\\n",
       "0                                             9853.0        \n",
       "1                                             3758.0        \n",
       "2                                             1762.0        \n",
       "3                                             2243.0        \n",
       "4                                             3633.0        \n",
       "\n",
       "   pessoas_de_10_anos_ou_mais_de_idade_15_a_19_anos_alfabetizadas  \\\n",
       "0                                             9478.0                \n",
       "1                                             3553.0                \n",
       "2                                             1596.0                \n",
       "3                                             1832.0                \n",
       "4                                             3090.0                \n",
       "\n",
       "   pessoas_de_10_anos_ou_mais_de_idade_15_a_19_anos_taxa_de_alfabetizacao_(%)  \\\n",
       "0                                          96.194053                            \n",
       "1                                          94.544971                            \n",
       "2                                          90.578888                            \n",
       "3                                          81.676326                            \n",
       "4                                          85.053675                            \n",
       "\n",
       "        ...         \\\n",
       "0       ...          \n",
       "1       ...          \n",
       "2       ...          \n",
       "3       ...          \n",
       "4       ...          \n",
       "\n",
       "   pessoas_de_10_anos_ou_mais_de_idade_ocupadas_na_semana_de_referencia_por_posicao_na_ocupacao_(%)_trabalhador_domestico_com_carteira  \\\n",
       "0                                           1.778760                                                                                     \n",
       "1                                           0.534028                                                                                     \n",
       "2                                           0.038902                                                                                     \n",
       "3                                           0.665384                                                                                     \n",
       "4                                           1.142118                                                                                     \n",
       "\n",
       "   pessoas_de_10_anos_ou_mais_de_idade_ocupadas_na_semana_de_referencia_por_posicao_na_ocupacao_(%)_trabalhador_domestico_sem_carteira  \\\n",
       "0                                           5.114576                                                                                     \n",
       "1                                           4.613167                                                                                     \n",
       "2                                           3.388949                                                                                     \n",
       "3                                           3.586701                                                                                     \n",
       "4                                           4.484667                                                                                     \n",
       "\n",
       "   taxa_de_escolarizacao_(%)_total  \\\n",
       "0                        32.530620   \n",
       "1                        29.143026   \n",
       "2                        33.557669   \n",
       "3                        31.677327   \n",
       "4                        33.183783   \n",
       "\n",
       "   taxa_de_escolarizacao_(%)_por_grupos_de_idade_0_a_6_anos  \\\n",
       "0                                          41.945898          \n",
       "1                                          25.394765          \n",
       "2                                          21.179424          \n",
       "3                                          40.297104          \n",
       "4                                          14.363835          \n",
       "\n",
       "   taxa_de_escolarizacao_(%)_por_grupos_de_idade_7_a_14_anos  \\\n",
       "0                                          95.584063           \n",
       "1                                          89.645511           \n",
       "2                                          95.555202           \n",
       "3                                          92.067825           \n",
       "4                                          86.474907           \n",
       "\n",
       "   taxa_de_escolarizacao_(%)_por_grupos_de_idade_15_a_17_anos  \\\n",
       "0                                          78.143800            \n",
       "1                                          68.337465            \n",
       "2                                          75.170484            \n",
       "3                                          66.086919            \n",
       "4                                          67.870384            \n",
       "\n",
       "   taxa_de_escolarizacao_(%)_por_grupos_de_idade_18_a_24_anos  \\\n",
       "0                                          33.812041            \n",
       "1                                          27.082396            \n",
       "2                                          32.956231            \n",
       "3                                          25.231703            \n",
       "4                                          37.045502            \n",
       "\n",
       "   taxa_de_escolarizacao_(%)_por_grupos_de_idade_25_anos_ou_mais  Unnamed: 0  \\\n",
       "0                                           3.816416                       0   \n",
       "1                                           2.221973                       1   \n",
       "2                                           5.897674                       2   \n",
       "3                                           3.157923                       3   \n",
       "4                                           6.286884                       4   \n",
       "\n",
       "      microrregiao  \n",
       "0           Recife  \n",
       "1    Vale do Pajeu  \n",
       "2        Petrolina  \n",
       "3            Brejo  \n",
       "4  Mata Meridional  \n",
       "\n",
       "[5 rows x 171 columns]"
      ]
     },
     "execution_count": 210,
     "metadata": {},
     "output_type": "execute_result"
    }
   ],
   "source": [
    "df= pd.concat([tabela_final.set_index('municipio'),microrregioes.set_index('municipio')], axis=1)\n",
    "#df\n",
    "#adicionar o dataframe vindo do cluster ao concat\n",
    "df = df.reset_index()\n",
    "df = df.drop('index',1)\n",
    "df.head()"
   ]
  },
  {
   "cell_type": "code",
   "execution_count": 201,
   "metadata": {
    "collapsed": true
   },
   "outputs": [],
   "source": [
    "df['is_train'] = np.random.uniform(0, 1, len(df)) <= .75\n",
    "train = df[df['is_train']==True]\n",
    "test = df[df['is_train']==False]"
   ]
  },
  {
   "cell_type": "code",
   "execution_count": 202,
   "metadata": {},
   "outputs": [
    {
     "name": "stdout",
     "output_type": "stream",
     "text": [
      "Number of observations in the training data: 138\n",
      "Number of observations in the test data: 47\n"
     ]
    }
   ],
   "source": [
    "print('Number of observations in the training data:', len(train))\n",
    "print('Number of observations in the test data:',len(test))"
   ]
  },
  {
   "cell_type": "code",
   "execution_count": 204,
   "metadata": {
    "collapsed": true
   },
   "outputs": [],
   "source": [
    "features = df.columns[:170]"
   ]
  },
  {
   "cell_type": "code",
   "execution_count": 144,
   "metadata": {
    "collapsed": true
   },
   "outputs": [],
   "source": [
    "train, test = df[df['is_train']==True], df[df['is_train']==False]"
   ]
  },
  {
   "cell_type": "code",
   "execution_count": null,
   "metadata": {
    "collapsed": true
   },
   "outputs": [],
   "source": [
    "y = pd.factorize(train['species'])[0]\n",
    "#species seria o cluster a qual pertence"
   ]
  },
  {
   "cell_type": "code",
   "execution_count": null,
   "metadata": {
    "collapsed": true
   },
   "outputs": [],
   "source": [
    "classificador = RandomForestClassifier(n_jobs=2, random_state=0)\n",
    "classificador.fit(train[features], y)"
   ]
  },
  {
   "cell_type": "markdown",
   "metadata": {},
   "source": [
    "Classificador feito! "
   ]
  },
  {
   "cell_type": "code",
   "execution_count": 205,
   "metadata": {
    "collapsed": true
   },
   "outputs": [],
   "source": [
    "classificador.predict(test[features])"
   ]
  },
  {
   "cell_type": "code",
   "execution_count": 150,
   "metadata": {},
   "outputs": [
    {
     "data": {
      "text/plain": [
       "array([[ 1. ,  0. ,  0. ],\n",
       "       [ 1. ,  0. ,  0. ],\n",
       "       [ 1. ,  0. ,  0. ],\n",
       "       [ 1. ,  0. ,  0. ],\n",
       "       [ 1. ,  0. ,  0. ],\n",
       "       [ 1. ,  0. ,  0. ],\n",
       "       [ 1. ,  0. ,  0. ],\n",
       "       [ 0.9,  0.1,  0. ],\n",
       "       [ 1. ,  0. ,  0. ],\n",
       "       [ 1. ,  0. ,  0. ]])"
      ]
     },
     "execution_count": 150,
     "metadata": {},
     "output_type": "execute_result"
    }
   ],
   "source": [
    "classificador.predict_proba(test[features])[0:10]"
   ]
  },
  {
   "cell_type": "code",
   "execution_count": null,
   "metadata": {
    "collapsed": true
   },
   "outputs": [],
   "source": [
    "pd.crosstab(test['species'], preds, rownames=['Actual Species'], colnames=['Predicted Species'])"
   ]
  },
  {
   "cell_type": "code",
   "execution_count": 207,
   "metadata": {
    "collapsed": true
   },
   "outputs": [],
   "source": [
    "list(zip(train[features], classificador.feature_importances_))"
   ]
  },
  {
   "cell_type": "code",
   "execution_count": null,
   "metadata": {
    "collapsed": true
   },
   "outputs": [],
   "source": []
  }
 ],
 "metadata": {
  "kernelspec": {
   "display_name": "Python 3",
   "language": "python",
   "name": "python3"
  },
  "language_info": {
   "codemirror_mode": {
    "name": "ipython",
    "version": 3
   },
   "file_extension": ".py",
   "mimetype": "text/x-python",
   "name": "python",
   "nbconvert_exporter": "python",
   "pygments_lexer": "ipython3",
   "version": "3.6.1"
  }
 },
 "nbformat": 4,
 "nbformat_minor": 2
}
