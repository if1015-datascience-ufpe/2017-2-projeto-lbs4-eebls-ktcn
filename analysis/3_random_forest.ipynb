{
 "cells": [
  {
   "cell_type": "code",
   "execution_count": 918,
   "metadata": {
    "collapsed": true
   },
   "outputs": [],
   "source": [
    "from sklearn.datasets import load_iris\n",
    "from sklearn.ensemble import RandomForestClassifier\n",
    "import pandas as pd\n",
    "import numpy as np\n",
    "# Set random seed\n",
    "np.random.seed(0)"
   ]
  },
  {
   "cell_type": "code",
   "execution_count": 919,
   "metadata": {
    "collapsed": true
   },
   "outputs": [],
   "source": [
    "#carregando as tables\n",
    "tabela_final = pd.read_csv('tabela_final_prod.csv')\n",
    "microrregioes = pd.read_csv(\"../data/microrregioes/municipios_microrregioes_pernambuco.csv\")\n",
    "classes = pd.read_csv('classes.csv')"
   ]
  },
  {
   "cell_type": "code",
   "execution_count": 920,
   "metadata": {},
   "outputs": [],
   "source": [
    "deus = pd.read_csv('deus.csv')\n",
    "df = pd.concat([deus, classes], axis=1)\n",
    "#df = df.drop('microrregiao',1)\n",
    "#y = pd.factorize(df['microrregiao'])[0]\n",
    "df = df.replace([np.inf, -np.inf, '-'], np.nan).dropna()\n",
    "#df"
   ]
  },
  {
   "cell_type": "code",
   "execution_count": 921,
   "metadata": {},
   "outputs": [],
   "source": [
    "#deus.head()"
   ]
  },
  {
   "cell_type": "code",
   "execution_count": 922,
   "metadata": {
    "scrolled": false
   },
   "outputs": [],
   "source": [
    "#concatenando\n",
    "##df= pd.concat([tabela_final.set_index('municipio'),microrregioes.set_index('municipio')], axis=1)\n",
    "##df = df.reset_index()\n",
    "##df = df.drop('index',1)\n",
    "\n",
    "#adicionar o dataframe vindo do cluster ao concat\n",
    "##df = pd.concat([df, classes], axis=1)\n",
    "##df = df.drop('microrregiao',1)\n",
    "#y = pd.factorize(df['microrregiao'])[0]\n",
    "##df = df.replace([np.inf, -np.inf, '-'], np.nan).dropna()\n",
    "#df.head()"
   ]
  },
  {
   "cell_type": "code",
   "execution_count": 923,
   "metadata": {
    "collapsed": true
   },
   "outputs": [],
   "source": [
    "df['is_train'] = np.random.uniform(0, 1, len(df)) <= .75\n",
    "train = df[df['is_train']==True]\n",
    "test = df[df['is_train']==False]"
   ]
  },
  {
   "cell_type": "code",
   "execution_count": 924,
   "metadata": {},
   "outputs": [
    {
     "name": "stdout",
     "output_type": "stream",
     "text": [
      "Number of observations in the training data: 144\n",
      "Number of observations in the test data: 40\n"
     ]
    }
   ],
   "source": [
    "print('Number of observations in the training data:', len(train))\n",
    "print('Number of observations in the test data:',len(test))"
   ]
  },
  {
   "cell_type": "code",
   "execution_count": 925,
   "metadata": {
    "collapsed": true
   },
   "outputs": [],
   "source": [
    "features = df.columns[2:6]\n",
    "#features"
   ]
  },
  {
   "cell_type": "code",
   "execution_count": 926,
   "metadata": {},
   "outputs": [
    {
     "data": {
      "text/plain": [
       "Index(['domicilios_particulares_permanentes_classes_de_salario_minimo_(%)_de_2_a_3',\n",
       "       'domicilios_particulares_permanentes_classes_de_salario_minimo_(%)_mais_de_3',\n",
       "       'populacao_proporcao_de_pessoas_naturais_dos_municipios_(%)',\n",
       "       'proporcao_de_pessoas_de_15_anos_ou_mais_de_idade_com_menos_de_4_anos_de_estudo_(%)_por_sexo_homem'],\n",
       "      dtype='object')"
      ]
     },
     "execution_count": 926,
     "metadata": {},
     "output_type": "execute_result"
    }
   ],
   "source": [
    "features"
   ]
  },
  {
   "cell_type": "code",
   "execution_count": 927,
   "metadata": {},
   "outputs": [],
   "source": [
    "train, test = df[df['is_train']==True], df[df['is_train']==False]"
   ]
  },
  {
   "cell_type": "code",
   "execution_count": 928,
   "metadata": {
    "collapsed": true
   },
   "outputs": [],
   "source": [
    "y = pd.factorize(train['class'])[0]\n",
    "#species seria o cluster a qual pertence"
   ]
  },
  {
   "cell_type": "code",
   "execution_count": 929,
   "metadata": {},
   "outputs": [
    {
     "data": {
      "text/plain": [
       "RandomForestClassifier(bootstrap=True, class_weight=None, criterion='gini',\n",
       "            max_depth=None, max_features='auto', max_leaf_nodes=None,\n",
       "            min_impurity_split=1e-07, min_samples_leaf=1,\n",
       "            min_samples_split=2, min_weight_fraction_leaf=0.0,\n",
       "            n_estimators=10, n_jobs=2, oob_score=False, random_state=0,\n",
       "            verbose=0, warm_start=False)"
      ]
     },
     "execution_count": 929,
     "metadata": {},
     "output_type": "execute_result"
    }
   ],
   "source": [
    "classificador = RandomForestClassifier(n_jobs=2, random_state=0)\n",
    "classificador.fit(train[features], y)"
   ]
  },
  {
   "cell_type": "markdown",
   "metadata": {},
   "source": [
    "Classificador feito! "
   ]
  },
  {
   "cell_type": "code",
   "execution_count": 930,
   "metadata": {},
   "outputs": [
    {
     "data": {
      "text/plain": [
       "array([1, 1, 1, 0, 1, 1, 1, 1, 1, 1, 1, 1, 0, 1, 1, 1, 1, 1, 0, 1, 1, 1, 1,\n",
       "       0, 1, 1, 1, 1, 1, 0, 1, 1, 1, 0, 1, 0, 1, 1, 1, 1])"
      ]
     },
     "execution_count": 930,
     "metadata": {},
     "output_type": "execute_result"
    }
   ],
   "source": [
    "classificador.predict(test[features])"
   ]
  },
  {
   "cell_type": "code",
   "execution_count": 931,
   "metadata": {},
   "outputs": [
    {
     "data": {
      "text/plain": [
       "array([[ 0.2,  0.8],\n",
       "       [ 0. ,  1. ],\n",
       "       [ 0.2,  0.8],\n",
       "       [ 1. ,  0. ],\n",
       "       [ 0.3,  0.7],\n",
       "       [ 0.2,  0.8],\n",
       "       [ 0. ,  1. ],\n",
       "       [ 0.2,  0.8],\n",
       "       [ 0.3,  0.7],\n",
       "       [ 0. ,  1. ]])"
      ]
     },
     "execution_count": 931,
     "metadata": {},
     "output_type": "execute_result"
    }
   ],
   "source": [
    "classificador.predict_proba(test[features])[0:10]"
   ]
  },
  {
   "cell_type": "code",
   "execution_count": 932,
   "metadata": {},
   "outputs": [
    {
     "data": {
      "text/html": [
       "<div>\n",
       "<style>\n",
       "    .dataframe thead tr:only-child th {\n",
       "        text-align: right;\n",
       "    }\n",
       "\n",
       "    .dataframe thead th {\n",
       "        text-align: left;\n",
       "    }\n",
       "\n",
       "    .dataframe tbody tr th {\n",
       "        vertical-align: top;\n",
       "    }\n",
       "</style>\n",
       "<table border=\"1\" class=\"dataframe\">\n",
       "  <thead>\n",
       "    <tr style=\"text-align: right;\">\n",
       "      <th>Predicted Species</th>\n",
       "      <th>0</th>\n",
       "      <th>1</th>\n",
       "    </tr>\n",
       "    <tr>\n",
       "      <th>Actual Species</th>\n",
       "      <th></th>\n",
       "      <th></th>\n",
       "    </tr>\n",
       "  </thead>\n",
       "  <tbody>\n",
       "    <tr>\n",
       "      <th>0</th>\n",
       "      <td>5</td>\n",
       "      <td>5</td>\n",
       "    </tr>\n",
       "    <tr>\n",
       "      <th>1</th>\n",
       "      <td>2</td>\n",
       "      <td>28</td>\n",
       "    </tr>\n",
       "  </tbody>\n",
       "</table>\n",
       "</div>"
      ],
      "text/plain": [
       "Predicted Species  0   1\n",
       "Actual Species          \n",
       "0                  5   5\n",
       "1                  2  28"
      ]
     },
     "execution_count": 932,
     "metadata": {},
     "output_type": "execute_result"
    }
   ],
   "source": [
    "preds = classificador.predict(test[features])\n",
    "pd.crosstab(test['class'], preds, rownames=['Actual Species'], colnames=['Predicted Species'])\n"
   ]
  },
  {
   "cell_type": "code",
   "execution_count": 933,
   "metadata": {},
   "outputs": [
    {
     "data": {
      "text/plain": [
       "[('domicilios_particulares_permanentes_classes_de_salario_minimo_(%)_de_2_a_3',\n",
       "  0.40422034616124269),\n",
       " ('domicilios_particulares_permanentes_classes_de_salario_minimo_(%)_mais_de_3',\n",
       "  0.23960745816720541),\n",
       " ('populacao_proporcao_de_pessoas_naturais_dos_municipios_(%)',\n",
       "  0.16197651158813714),\n",
       " ('proporcao_de_pessoas_de_15_anos_ou_mais_de_idade_com_menos_de_4_anos_de_estudo_(%)_por_sexo_homem',\n",
       "  0.19419568408341478)]"
      ]
     },
     "execution_count": 933,
     "metadata": {},
     "output_type": "execute_result"
    }
   ],
   "source": [
    "list(zip(train[features], classificador.feature_importances_))"
   ]
  },
  {
   "cell_type": "code",
   "execution_count": 938,
   "metadata": {},
   "outputs": [],
   "source": [
    "teste = pd.concat([df['class'],\\\n",
    "                   df['taxa_homicidio'],\\\n",
    "                   df['domicilios_particulares_permanentes_classes_de_salario_minimo_(%)_de_2_a_3'],\\\n",
    "                    df['domicilios_particulares_permanentes_classes_de_salario_minimo_(%)_mais_de_3'],\\\n",
    "                   df['populacao_proporcao_de_pessoas_naturais_dos_municipios_(%)'],\\\n",
    "                   df['proporcao_de_pessoas_de_15_anos_ou_mais_de_idade_com_menos_de_4_anos_de_estudo_(%)_por_sexo_homem']],\\\n",
    "                  axis=1)"
   ]
  },
  {
   "cell_type": "code",
   "execution_count": 939,
   "metadata": {},
   "outputs": [
    {
     "data": {
      "text/html": [
       "<div>\n",
       "<style>\n",
       "    .dataframe thead tr:only-child th {\n",
       "        text-align: right;\n",
       "    }\n",
       "\n",
       "    .dataframe thead th {\n",
       "        text-align: left;\n",
       "    }\n",
       "\n",
       "    .dataframe tbody tr th {\n",
       "        vertical-align: top;\n",
       "    }\n",
       "</style>\n",
       "<table border=\"1\" class=\"dataframe\">\n",
       "  <thead>\n",
       "    <tr style=\"text-align: right;\">\n",
       "      <th></th>\n",
       "      <th>taxa_homicidio</th>\n",
       "      <th>domicilios_particulares_permanentes_classes_de_salario_minimo_(%)_de_2_a_3</th>\n",
       "      <th>domicilios_particulares_permanentes_classes_de_salario_minimo_(%)_mais_de_3</th>\n",
       "      <th>populacao_proporcao_de_pessoas_naturais_dos_municipios_(%)</th>\n",
       "      <th>proporcao_de_pessoas_de_15_anos_ou_mais_de_idade_com_menos_de_4_anos_de_estudo_(%)_por_sexo_homem</th>\n",
       "    </tr>\n",
       "    <tr>\n",
       "      <th>class</th>\n",
       "      <th></th>\n",
       "      <th></th>\n",
       "      <th></th>\n",
       "      <th></th>\n",
       "      <th></th>\n",
       "    </tr>\n",
       "  </thead>\n",
       "  <tbody>\n",
       "    <tr>\n",
       "      <th>0</th>\n",
       "      <td>47.259502</td>\n",
       "      <td>3.874709</td>\n",
       "      <td>5.233135</td>\n",
       "      <td>71.477934</td>\n",
       "      <td>48.957502</td>\n",
       "    </tr>\n",
       "    <tr>\n",
       "      <th>1</th>\n",
       "      <td>12.549895</td>\n",
       "      <td>2.154186</td>\n",
       "      <td>2.406395</td>\n",
       "      <td>80.908249</td>\n",
       "      <td>60.333646</td>\n",
       "    </tr>\n",
       "  </tbody>\n",
       "</table>\n",
       "</div>"
      ],
      "text/plain": [
       "       taxa_homicidio  \\\n",
       "class                   \n",
       "0           47.259502   \n",
       "1           12.549895   \n",
       "\n",
       "       domicilios_particulares_permanentes_classes_de_salario_minimo_(%)_de_2_a_3  \\\n",
       "class                                                                               \n",
       "0                                               3.874709                            \n",
       "1                                               2.154186                            \n",
       "\n",
       "       domicilios_particulares_permanentes_classes_de_salario_minimo_(%)_mais_de_3  \\\n",
       "class                                                                                \n",
       "0                                               5.233135                             \n",
       "1                                               2.406395                             \n",
       "\n",
       "       populacao_proporcao_de_pessoas_naturais_dos_municipios_(%)  \\\n",
       "class                                                               \n",
       "0                                              71.477934            \n",
       "1                                              80.908249            \n",
       "\n",
       "       proporcao_de_pessoas_de_15_anos_ou_mais_de_idade_com_menos_de_4_anos_de_estudo_(%)_por_sexo_homem  \n",
       "class                                                                                                     \n",
       "0                                              48.957502                                                  \n",
       "1                                              60.333646                                                  "
      ]
     },
     "execution_count": 939,
     "metadata": {},
     "output_type": "execute_result"
    }
   ],
   "source": [
    "teste.groupby(['class']).mean()"
   ]
  },
  {
   "cell_type": "code",
   "execution_count": 936,
   "metadata": {},
   "outputs": [
    {
     "data": {
      "text/html": [
       "<div>\n",
       "<style>\n",
       "    .dataframe thead tr:only-child th {\n",
       "        text-align: right;\n",
       "    }\n",
       "\n",
       "    .dataframe thead th {\n",
       "        text-align: left;\n",
       "    }\n",
       "\n",
       "    .dataframe tbody tr th {\n",
       "        vertical-align: top;\n",
       "    }\n",
       "</style>\n",
       "<table border=\"1\" class=\"dataframe\">\n",
       "  <thead>\n",
       "    <tr style=\"text-align: right;\">\n",
       "      <th></th>\n",
       "      <th>taxa_homicidio</th>\n",
       "      <th>populacao_proporcao_de_pessoas_naturais_dos_municipios_(%)</th>\n",
       "      <th>domicilios_particulares_permanentes_classes_de_salario_minimo_(%)_de_2_a_3</th>\n",
       "      <th>domicilios_particulares_permanentes_classes_de_salario_minimo_(%)_mais_de_3</th>\n",
       "      <th>proporcao_de_pessoas_de_15_anos_ou_mais_de_idade_com_menos_de_4_anos_de_estudo_(%)_por_sexo_homem</th>\n",
       "    </tr>\n",
       "    <tr>\n",
       "      <th>class</th>\n",
       "      <th></th>\n",
       "      <th></th>\n",
       "      <th></th>\n",
       "      <th></th>\n",
       "      <th></th>\n",
       "    </tr>\n",
       "  </thead>\n",
       "  <tbody>\n",
       "    <tr>\n",
       "      <th>0</th>\n",
       "      <td>30.292539</td>\n",
       "      <td>41.015155</td>\n",
       "      <td>0.90786</td>\n",
       "      <td>0.468368</td>\n",
       "      <td>15.894111</td>\n",
       "    </tr>\n",
       "    <tr>\n",
       "      <th>1</th>\n",
       "      <td>0.000000</td>\n",
       "      <td>56.694776</td>\n",
       "      <td>0.00000</td>\n",
       "      <td>0.000000</td>\n",
       "      <td>39.744629</td>\n",
       "    </tr>\n",
       "  </tbody>\n",
       "</table>\n",
       "</div>"
      ],
      "text/plain": [
       "       taxa_homicidio  \\\n",
       "class                   \n",
       "0           30.292539   \n",
       "1            0.000000   \n",
       "\n",
       "       populacao_proporcao_de_pessoas_naturais_dos_municipios_(%)  \\\n",
       "class                                                               \n",
       "0                                              41.015155            \n",
       "1                                              56.694776            \n",
       "\n",
       "       domicilios_particulares_permanentes_classes_de_salario_minimo_(%)_de_2_a_3  \\\n",
       "class                                                                               \n",
       "0                                                0.90786                            \n",
       "1                                                0.00000                            \n",
       "\n",
       "       domicilios_particulares_permanentes_classes_de_salario_minimo_(%)_mais_de_3  \\\n",
       "class                                                                                \n",
       "0                                               0.468368                             \n",
       "1                                               0.000000                             \n",
       "\n",
       "       proporcao_de_pessoas_de_15_anos_ou_mais_de_idade_com_menos_de_4_anos_de_estudo_(%)_por_sexo_homem  \n",
       "class                                                                                                     \n",
       "0                                              15.894111                                                  \n",
       "1                                              39.744629                                                  "
      ]
     },
     "execution_count": 936,
     "metadata": {},
     "output_type": "execute_result"
    }
   ],
   "source": [
    "teste.groupby(['class']).min()"
   ]
  },
  {
   "cell_type": "code",
   "execution_count": 937,
   "metadata": {},
   "outputs": [
    {
     "data": {
      "text/html": [
       "<div>\n",
       "<style>\n",
       "    .dataframe thead tr:only-child th {\n",
       "        text-align: right;\n",
       "    }\n",
       "\n",
       "    .dataframe thead th {\n",
       "        text-align: left;\n",
       "    }\n",
       "\n",
       "    .dataframe tbody tr th {\n",
       "        vertical-align: top;\n",
       "    }\n",
       "</style>\n",
       "<table border=\"1\" class=\"dataframe\">\n",
       "  <thead>\n",
       "    <tr style=\"text-align: right;\">\n",
       "      <th></th>\n",
       "      <th>taxa_homicidio</th>\n",
       "      <th>populacao_proporcao_de_pessoas_naturais_dos_municipios_(%)</th>\n",
       "      <th>domicilios_particulares_permanentes_classes_de_salario_minimo_(%)_de_2_a_3</th>\n",
       "      <th>domicilios_particulares_permanentes_classes_de_salario_minimo_(%)_mais_de_3</th>\n",
       "      <th>proporcao_de_pessoas_de_15_anos_ou_mais_de_idade_com_menos_de_4_anos_de_estudo_(%)_por_sexo_homem</th>\n",
       "    </tr>\n",
       "    <tr>\n",
       "      <th>class</th>\n",
       "      <th></th>\n",
       "      <th></th>\n",
       "      <th></th>\n",
       "      <th></th>\n",
       "      <th></th>\n",
       "    </tr>\n",
       "  </thead>\n",
       "  <tbody>\n",
       "    <tr>\n",
       "      <th>0</th>\n",
       "      <td>88.388286</td>\n",
       "      <td>85.990799</td>\n",
       "      <td>10.773396</td>\n",
       "      <td>25.361283</td>\n",
       "      <td>70.436493</td>\n",
       "    </tr>\n",
       "    <tr>\n",
       "      <th>1</th>\n",
       "      <td>32.160086</td>\n",
       "      <td>96.777992</td>\n",
       "      <td>4.199698</td>\n",
       "      <td>7.451507</td>\n",
       "      <td>78.199965</td>\n",
       "    </tr>\n",
       "  </tbody>\n",
       "</table>\n",
       "</div>"
      ],
      "text/plain": [
       "       taxa_homicidio  \\\n",
       "class                   \n",
       "0           88.388286   \n",
       "1           32.160086   \n",
       "\n",
       "       populacao_proporcao_de_pessoas_naturais_dos_municipios_(%)  \\\n",
       "class                                                               \n",
       "0                                              85.990799            \n",
       "1                                              96.777992            \n",
       "\n",
       "       domicilios_particulares_permanentes_classes_de_salario_minimo_(%)_de_2_a_3  \\\n",
       "class                                                                               \n",
       "0                                              10.773396                            \n",
       "1                                               4.199698                            \n",
       "\n",
       "       domicilios_particulares_permanentes_classes_de_salario_minimo_(%)_mais_de_3  \\\n",
       "class                                                                                \n",
       "0                                              25.361283                             \n",
       "1                                               7.451507                             \n",
       "\n",
       "       proporcao_de_pessoas_de_15_anos_ou_mais_de_idade_com_menos_de_4_anos_de_estudo_(%)_por_sexo_homem  \n",
       "class                                                                                                     \n",
       "0                                              70.436493                                                  \n",
       "1                                              78.199965                                                  "
      ]
     },
     "execution_count": 937,
     "metadata": {},
     "output_type": "execute_result"
    }
   ],
   "source": [
    "teste.groupby(['class']).max()"
   ]
  }
 ],
 "metadata": {
  "kernelspec": {
   "display_name": "Python 3",
   "language": "python",
   "name": "python3"
  },
  "language_info": {
   "codemirror_mode": {
    "name": "ipython",
    "version": 3
   },
   "file_extension": ".py",
   "mimetype": "text/x-python",
   "name": "python",
   "nbconvert_exporter": "python",
   "pygments_lexer": "ipython3",
   "version": "3.6.1"
  }
 },
 "nbformat": 4,
 "nbformat_minor": 2
}
