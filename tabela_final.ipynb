{
 "cells": [
  {
   "cell_type": "code",
   "execution_count": 453,
   "metadata": {
    "collapsed": true
   },
   "outputs": [],
   "source": [
    "import pandas as pd"
   ]
  },
  {
   "cell_type": "code",
   "execution_count": 454,
   "metadata": {
    "collapsed": true
   },
   "outputs": [],
   "source": [
    "import numpy as np"
   ]
  },
  {
   "cell_type": "code",
   "execution_count": 473,
   "metadata": {},
   "outputs": [],
   "source": [
    "homicidios = pd.read_csv(\"data/censo_2000_pe/agressoes_arma_de_fogo_2000.csv\")\n",
    "homicidios = homicidios.rename(index=str, columns={\"2000\": \"ano_2000\"})\n",
    "homicidios = homicidios.replace('-', np.nan)\n",
    "homicidios['ano_2000'] = homicidios.ano_2000.astype(\"float64\")\n",
    "#homicidios"
   ]
  },
  {
   "cell_type": "code",
   "execution_count": 474,
   "metadata": {},
   "outputs": [],
   "source": [
    "populacao = pd.read_csv(\"data/estimativa_populacao/populacao_pe_municipios.csv\")\n",
    "#populacao"
   ]
  },
  {
   "cell_type": "code",
   "execution_count": 475,
   "metadata": {},
   "outputs": [],
   "source": [
    "microrregioes = pd.read_csv(\"data/microrregioes/municipios_microrregioes_pernambuco.csv\")\n",
    "#microrregioes"
   ]
  },
  {
   "cell_type": "code",
   "execution_count": 476,
   "metadata": {},
   "outputs": [],
   "source": [
    "aux2 = pd.read_csv(\"data/censo_2000_pe/csv/edu_alunos_por_serie.csv\")\n",
    "#aux2.head()\n",
    "codigo = aux2[['municipio', 'codigo_unidade_geografica']]\n",
    "codigo = codigo.copy()\n",
    "codigo['codigo_unidade_geografica'] = codigo['codigo_unidade_geografica'].apply(lambda x: int(x/10))\n",
    "#codigo"
   ]
  },
  {
   "cell_type": "code",
   "execution_count": 477,
   "metadata": {
    "collapsed": true
   },
   "outputs": [],
   "source": [
    "codigo['municipio'] = codigo['municipio'].str.normalize('NFKD').str.encode('ascii', errors='ignore').str.decode('utf-8')\n",
    "microrregioes['municipio'] = microrregioes['municipio'].str.normalize('NFKD').str.encode('ascii', errors='ignore').str.decode('utf-8')\n",
    "microrregioes['microrregiao'] = microrregioes['microrregiao'].str.normalize('NFKD').str.encode('ascii', errors='ignore').str.decode('utf-8')\n",
    "populacao['municipio'] = populacao['municipio'].str.normalize('NFKD').str.encode('ascii', errors='ignore').str.decode('utf-8')\n"
   ]
  },
  {
   "cell_type": "code",
   "execution_count": 478,
   "metadata": {},
   "outputs": [],
   "source": [
    "tb_parcial = pd.concat([codigo.set_index(\"municipio\"),\\\n",
    "                                microrregioes.set_index(\"municipio\"), populacao.set_index(\"municipio\")], axis= 1)\n",
    "tb_parcial = tb_parcial.reset_index()\n",
    "tb_parcial = tb_parcial.rename(index=str, columns={\"index\": \"municipio\"})"
   ]
  },
  {
   "cell_type": "code",
   "execution_count": 479,
   "metadata": {},
   "outputs": [
    {
     "data": {
      "text/html": [
       "<div>\n",
       "<style>\n",
       "    .dataframe thead tr:only-child th {\n",
       "        text-align: right;\n",
       "    }\n",
       "\n",
       "    .dataframe thead th {\n",
       "        text-align: left;\n",
       "    }\n",
       "\n",
       "    .dataframe tbody tr th {\n",
       "        vertical-align: top;\n",
       "    }\n",
       "</style>\n",
       "<table border=\"1\" class=\"dataframe\">\n",
       "  <thead>\n",
       "    <tr style=\"text-align: right;\">\n",
       "      <th></th>\n",
       "      <th>municipio</th>\n",
       "      <th>codigo_unidade_geografica</th>\n",
       "      <th>microrregiao</th>\n",
       "      <th>pop</th>\n",
       "    </tr>\n",
       "  </thead>\n",
       "  <tbody>\n",
       "    <tr>\n",
       "      <th>0</th>\n",
       "      <td>Abreu e Lima</td>\n",
       "      <td>260005</td>\n",
       "      <td>Recife</td>\n",
       "      <td>83486</td>\n",
       "    </tr>\n",
       "    <tr>\n",
       "      <th>1</th>\n",
       "      <td>Afogados da Ingazeira</td>\n",
       "      <td>260010</td>\n",
       "      <td>Vale do Pajeu</td>\n",
       "      <td>34524</td>\n",
       "    </tr>\n",
       "    <tr>\n",
       "      <th>2</th>\n",
       "      <td>Afranio</td>\n",
       "      <td>260020</td>\n",
       "      <td>Petrolina</td>\n",
       "      <td>14227</td>\n",
       "    </tr>\n",
       "    <tr>\n",
       "      <th>3</th>\n",
       "      <td>Agrestina</td>\n",
       "      <td>260030</td>\n",
       "      <td>Brejo</td>\n",
       "      <td>18713</td>\n",
       "    </tr>\n",
       "    <tr>\n",
       "      <th>4</th>\n",
       "      <td>Agua Preta</td>\n",
       "      <td>260040</td>\n",
       "      <td>Mata Meridional</td>\n",
       "      <td>25353</td>\n",
       "    </tr>\n",
       "  </tbody>\n",
       "</table>\n",
       "</div>"
      ],
      "text/plain": [
       "               municipio  codigo_unidade_geografica     microrregiao    pop\n",
       "0           Abreu e Lima                     260005           Recife  83486\n",
       "1  Afogados da Ingazeira                     260010    Vale do Pajeu  34524\n",
       "2                Afranio                     260020        Petrolina  14227\n",
       "3              Agrestina                     260030            Brejo  18713\n",
       "4             Agua Preta                     260040  Mata Meridional  25353"
      ]
     },
     "execution_count": 479,
     "metadata": {},
     "output_type": "execute_result"
    }
   ],
   "source": [
    "tb_parcial.head()"
   ]
  },
  {
   "cell_type": "code",
   "execution_count": 581,
   "metadata": {
    "collapsed": true
   },
   "outputs": [],
   "source": [
    "def filtro(codigo):\n",
    "    aux=[]\n",
    "    if (codigo >= 260001 and codigo <= 269999):\n",
    "        aux.append(int(codigo))\n",
    "    df_newcode = pd.DataFrame(aux, columns=[\"codigo_un\"])\n",
    "    return df_newcode"
   ]
  },
  {
   "cell_type": "code",
   "execution_count": 582,
   "metadata": {
    "collapsed": true
   },
   "outputs": [],
   "source": [
    "n_homicidios = pd.concat(map(lambda a: filtro(a.codigo_unidade_geografica).\\\n",
    "                             assign(homicidio = a.ano_2000), homicidios.itertuples()), ignore_index=True)\n",
    "#n_homicidios.head()"
   ]
  },
  {
   "cell_type": "code",
   "execution_count": 583,
   "metadata": {},
   "outputs": [],
   "source": [
    "tabela_ref = pd.concat([tb_parcial.set_index(\"codigo_unidade_geografica\"),\\\n",
    "                                n_homicidios.set_index(\"codigo_un\")], axis= 1)"
   ]
  },
  {
   "cell_type": "code",
   "execution_count": 584,
   "metadata": {},
   "outputs": [
    {
     "data": {
      "text/html": [
       "<div>\n",
       "<style>\n",
       "    .dataframe thead tr:only-child th {\n",
       "        text-align: right;\n",
       "    }\n",
       "\n",
       "    .dataframe thead th {\n",
       "        text-align: left;\n",
       "    }\n",
       "\n",
       "    .dataframe tbody tr th {\n",
       "        vertical-align: top;\n",
       "    }\n",
       "</style>\n",
       "<table border=\"1\" class=\"dataframe\">\n",
       "  <thead>\n",
       "    <tr style=\"text-align: right;\">\n",
       "      <th></th>\n",
       "      <th>codigo_un</th>\n",
       "      <th>municipio</th>\n",
       "      <th>microrregiao</th>\n",
       "      <th>pop</th>\n",
       "      <th>homicidio</th>\n",
       "    </tr>\n",
       "  </thead>\n",
       "  <tbody>\n",
       "    <tr>\n",
       "      <th>0</th>\n",
       "      <td>260005</td>\n",
       "      <td>Abreu e Lima</td>\n",
       "      <td>Recife</td>\n",
       "      <td>83486</td>\n",
       "      <td>32.0</td>\n",
       "    </tr>\n",
       "    <tr>\n",
       "      <th>1</th>\n",
       "      <td>260010</td>\n",
       "      <td>Afogados da Ingazeira</td>\n",
       "      <td>Vale do Pajeu</td>\n",
       "      <td>34524</td>\n",
       "      <td>8.0</td>\n",
       "    </tr>\n",
       "    <tr>\n",
       "      <th>2</th>\n",
       "      <td>260020</td>\n",
       "      <td>Afranio</td>\n",
       "      <td>Petrolina</td>\n",
       "      <td>14227</td>\n",
       "      <td>1.0</td>\n",
       "    </tr>\n",
       "    <tr>\n",
       "      <th>3</th>\n",
       "      <td>260030</td>\n",
       "      <td>Agrestina</td>\n",
       "      <td>Brejo</td>\n",
       "      <td>18713</td>\n",
       "      <td>8.0</td>\n",
       "    </tr>\n",
       "    <tr>\n",
       "      <th>4</th>\n",
       "      <td>260040</td>\n",
       "      <td>Agua Preta</td>\n",
       "      <td>Mata Meridional</td>\n",
       "      <td>25353</td>\n",
       "      <td>21.0</td>\n",
       "    </tr>\n",
       "  </tbody>\n",
       "</table>\n",
       "</div>"
      ],
      "text/plain": [
       "   codigo_un              municipio     microrregiao    pop  homicidio\n",
       "0     260005           Abreu e Lima           Recife  83486       32.0\n",
       "1     260010  Afogados da Ingazeira    Vale do Pajeu  34524        8.0\n",
       "2     260020                Afranio        Petrolina  14227        1.0\n",
       "3     260030              Agrestina            Brejo  18713        8.0\n",
       "4     260040             Agua Preta  Mata Meridional  25353       21.0"
      ]
     },
     "execution_count": 584,
     "metadata": {},
     "output_type": "execute_result"
    }
   ],
   "source": [
    "tabela_ref = tabela_ref.reset_index()\n",
    "tabela_ref = tabela_ref.rename(columns={\"index\": \"codigo_un\"})\n",
    "tabela_ref.head()"
   ]
  },
  {
   "cell_type": "code",
   "execution_count": 585,
   "metadata": {},
   "outputs": [],
   "source": [
    "def taxa(populacao, homicidios):\n",
    "    aux=[]\n",
    "    taxa_h = 100000*homicidios/populacao\n",
    "    aux.append(taxa_h)\n",
    "    df_taxa = pd.DataFrame(aux, columns=[\"taxa_homicidio\"])\n",
    "    return df_taxa"
   ]
  },
  {
   "cell_type": "code",
   "execution_count": 586,
   "metadata": {},
   "outputs": [],
   "source": [
    "taxa = pd.concat(map(lambda a: taxa(a.pop, a.homicidio),\\\n",
    "                       tabela_ref.itertuples()), ignore_index=True)"
   ]
  },
  {
   "cell_type": "code",
   "execution_count": 591,
   "metadata": {},
   "outputs": [
    {
     "data": {
      "text/html": [
       "<div>\n",
       "<style>\n",
       "    .dataframe thead tr:only-child th {\n",
       "        text-align: right;\n",
       "    }\n",
       "\n",
       "    .dataframe thead th {\n",
       "        text-align: left;\n",
       "    }\n",
       "\n",
       "    .dataframe tbody tr th {\n",
       "        vertical-align: top;\n",
       "    }\n",
       "</style>\n",
       "<table border=\"1\" class=\"dataframe\">\n",
       "  <thead>\n",
       "    <tr style=\"text-align: right;\">\n",
       "      <th></th>\n",
       "      <th>codigo_un</th>\n",
       "      <th>municipio</th>\n",
       "      <th>microrregiao</th>\n",
       "      <th>pop</th>\n",
       "      <th>homicidio</th>\n",
       "      <th>taxa_homicidio</th>\n",
       "    </tr>\n",
       "  </thead>\n",
       "  <tbody>\n",
       "    <tr>\n",
       "      <th>0</th>\n",
       "      <td>260005</td>\n",
       "      <td>Abreu e Lima</td>\n",
       "      <td>Recife</td>\n",
       "      <td>83486</td>\n",
       "      <td>32.0</td>\n",
       "      <td>38.329780</td>\n",
       "    </tr>\n",
       "    <tr>\n",
       "      <th>1</th>\n",
       "      <td>260010</td>\n",
       "      <td>Afogados da Ingazeira</td>\n",
       "      <td>Vale do Pajeu</td>\n",
       "      <td>34524</td>\n",
       "      <td>8.0</td>\n",
       "      <td>23.172286</td>\n",
       "    </tr>\n",
       "    <tr>\n",
       "      <th>2</th>\n",
       "      <td>260020</td>\n",
       "      <td>Afranio</td>\n",
       "      <td>Petrolina</td>\n",
       "      <td>14227</td>\n",
       "      <td>1.0</td>\n",
       "      <td>7.028889</td>\n",
       "    </tr>\n",
       "    <tr>\n",
       "      <th>3</th>\n",
       "      <td>260030</td>\n",
       "      <td>Agrestina</td>\n",
       "      <td>Brejo</td>\n",
       "      <td>18713</td>\n",
       "      <td>8.0</td>\n",
       "      <td>42.751029</td>\n",
       "    </tr>\n",
       "    <tr>\n",
       "      <th>4</th>\n",
       "      <td>260040</td>\n",
       "      <td>Agua Preta</td>\n",
       "      <td>Mata Meridional</td>\n",
       "      <td>25353</td>\n",
       "      <td>21.0</td>\n",
       "      <td>82.830434</td>\n",
       "    </tr>\n",
       "  </tbody>\n",
       "</table>\n",
       "</div>"
      ],
      "text/plain": [
       "   codigo_un              municipio     microrregiao    pop  homicidio  \\\n",
       "0     260005           Abreu e Lima           Recife  83486       32.0   \n",
       "1     260010  Afogados da Ingazeira    Vale do Pajeu  34524        8.0   \n",
       "2     260020                Afranio        Petrolina  14227        1.0   \n",
       "3     260030              Agrestina            Brejo  18713        8.0   \n",
       "4     260040             Agua Preta  Mata Meridional  25353       21.0   \n",
       "\n",
       "   taxa_homicidio  \n",
       "0       38.329780  \n",
       "1       23.172286  \n",
       "2        7.028889  \n",
       "3       42.751029  \n",
       "4       82.830434  "
      ]
     },
     "execution_count": 591,
     "metadata": {},
     "output_type": "execute_result"
    }
   ],
   "source": [
    "tabela = pd.concat([tabela_ref, taxa], axis=1)\n",
    "tabela.head()"
   ]
  },
  {
   "cell_type": "code",
   "execution_count": 593,
   "metadata": {
    "collapsed": true
   },
   "outputs": [],
   "source": [
    "tabela.to_csv('../2017-2-projeto-lbs4-eebls-ktcn/tabela_final.csv', index=False)"
   ]
  },
  {
   "cell_type": "code",
   "execution_count": null,
   "metadata": {
    "collapsed": true
   },
   "outputs": [],
   "source": []
  }
 ],
 "metadata": {
  "kernelspec": {
   "display_name": "Python 3",
   "language": "python",
   "name": "python3"
  },
  "language_info": {
   "codemirror_mode": {
    "name": "ipython",
    "version": 3
   },
   "file_extension": ".py",
   "mimetype": "text/x-python",
   "name": "python",
   "nbconvert_exporter": "python",
   "pygments_lexer": "ipython3",
   "version": "3.6.1"
  }
 },
 "nbformat": 4,
 "nbformat_minor": 2
}
